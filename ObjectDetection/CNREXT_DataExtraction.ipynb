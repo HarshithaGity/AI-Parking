{
 "cells": [
  {
   "cell_type": "code",
   "execution_count": 11,
   "metadata": {},
   "outputs": [],
   "source": [
    "import numpy as np\n",
    "import pandas as pd\n",
    "import os\n",
    "import tensorflow as tf\n",
    "import matplotlib.pyplot as plt\n",
    "import shutil"
   ]
  },
  {
   "cell_type": "code",
   "execution_count": 20,
   "metadata": {},
   "outputs": [],
   "source": [
    "labelsFile=\"/Users/Harshitha/Downloads/CNR-EXT-Patches-150x150/LABELS/train.txt\"\n",
    "patches = \"/Users/Harshitha/Downloads/CNR-EXT-Patches-150x150/PATCHES/\"\n",
    "destpath = \"/Users/Harshitha/Desktop\"\n",
    "with open(labelsFile, 'r') as file:\n",
    "    file =file.readlines()\n",
    "linecount =0 \n",
    "for line in file:\n",
    "    line = line.split()\n",
    "    readpath = patches + line[0]\n",
    "    destFolder = destpath + '/' +line[1]\n",
    "    #print(readpath)\n",
    "    #print(destFolder)\n",
    "    shutil.copy(readpath, destFolder)\n",
    "    #if linecount == 1:\n",
    "        #break\n",
    "    linecount = linecount+1"
   ]
  }
 ],
 "metadata": {
  "kernelspec": {
   "display_name": "Python 3",
   "language": "python",
   "name": "python3"
  },
  "language_info": {
   "codemirror_mode": {
    "name": "ipython",
    "version": 3
   },
   "file_extension": ".py",
   "mimetype": "text/x-python",
   "name": "python",
   "nbconvert_exporter": "python",
   "pygments_lexer": "ipython3",
   "version": "3.7.1"
  }
 },
 "nbformat": 4,
 "nbformat_minor": 2
}
