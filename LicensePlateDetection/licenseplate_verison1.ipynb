{
 "cells": [
  {
   "cell_type": "code",
   "execution_count": 7,
   "metadata": {},
   "outputs": [],
   "source": [
    "#openalpr to detect liscence plate number\n",
    "from openalpr import Alpr\n",
    "import sys\n",
    "import cv2 as cv2\n",
    "import matplotlib.pyplot as plt\n",
    "import time"
   ]
  },
  {
   "cell_type": "code",
   "execution_count": 8,
   "metadata": {},
   "outputs": [],
   "source": [
    "config = \"C:/Users/pvpan/Desktop/Kavya Docs/Summer/220/openalpr/src/build/config/openalpr.conf\"\n",
    "runtimedata_path = \"C:/Users/pvpan/Desktop/Kavya Docs/Summer/220/openalpr/runtime_data\""
   ]
  },
  {
   "cell_type": "code",
   "execution_count": 9,
   "metadata": {},
   "outputs": [],
   "source": [
    "alpr = Alpr(\"us\", config, runtimedata_path)"
   ]
  },
  {
   "cell_type": "code",
   "execution_count": 10,
   "metadata": {},
   "outputs": [],
   "source": [
    "if not alpr.is_loaded():\n",
    "    print(\"Error loading OpenALPR\")\n",
    "    sys.exit(1)"
   ]
  },
  {
   "cell_type": "code",
   "execution_count": 11,
   "metadata": {},
   "outputs": [],
   "source": [
    "alpr.set_top_n(20)"
   ]
  },
  {
   "cell_type": "code",
   "execution_count": 12,
   "metadata": {},
   "outputs": [],
   "source": [
    "def show(image):\n",
    "    plt.figure(figsize=(5, 5))\n",
    "    plt.imshow(image)\n",
    "    plt.show()"
   ]
  },
  {
   "cell_type": "code",
   "execution_count": 16,
   "metadata": {},
   "outputs": [
    {
     "name": "stdout",
     "output_type": "stream",
     "text": [
      "{}\n",
      "{'7RQR550': 89.15258}\n",
      "0\n",
      "{}\n",
      "{'7RQR550': 88.973854}\n",
      "0\n",
      "{}\n",
      "{'7RQR550': 88.93325}\n",
      "0\n"
     ]
    }
   ],
   "source": [
    "VIDEO_SOURCE = \"C:/Users/pvpan/Desktop/Kavya Docs/Summer/220/carexited.mkv\"\n",
    "stream = cv2.VideoCapture(VIDEO_SOURCE)\n",
    "count = 0\n",
    "while stream.isOpened():\n",
    "    success,image= stream.read()\n",
    "    if not success:\n",
    "        print(\"video done\")\n",
    "        break\n",
    "    #show(image)\n",
    "    results = alpr.recognize_ndarray(image)\n",
    "    i = 0\n",
    "    dictplate ={}\n",
    "    plateArray = []\n",
    "    Confidence = []\n",
    "    for i, plate in enumerate(results['results']):\n",
    "        if plate['confidence']>88 and len(plate['plate'])==7:\n",
    "            topMost = plate['candidates'][0]\n",
    "            current_time = time.strftime(\"%m-%d-%Y %H:%M:%S\") \n",
    "            print(dictplate)\n",
    "            if i== 0:\n",
    "                dictplate[topMost['plate']] = topMost['confidence']\n",
    "                print(dictplate)\n",
    "            if dictplate.get(topMost['plate']) < topMost['confidence']:\n",
    "                dictplate[topMost['plate']] = topMost['confidence']\n",
    "            print(i)\n",
    "            i = i + 1\n",
    "            #print('Plate #{}: {:7s} ({:.2f}%) {}'.format(i, topMost['plate'].upper(), topMost['confidence'],current_time))\n",
    "    #print(dictplate)\n",
    "    if count == 20:\n",
    "        break\n",
    "    count = count + 1\n",
    "    \n",
    "\n",
    "    "
   ]
  },
  {
   "cell_type": "code",
   "execution_count": 74,
   "metadata": {},
   "outputs": [
    {
     "name": "stdout",
     "output_type": "stream",
     "text": [
      "Plate #1\n",
      "          Plate   Confidence\n",
      "  -       FDY418   90.362671\n",
      "  -       EDY418   88.886734\n",
      "  -        DY418   85.589310\n",
      "  -       PDY418   84.336761\n",
      "  -       F0Y418   81.040321\n",
      "  -       FOY418   80.750854\n",
      "  -       FQY418   80.307426\n",
      "  -       E0Y418   79.564384\n",
      "  -        FDY18   79.474152\n",
      "  -       EOY418   79.274933\n",
      "  -       EQY418   78.831505\n",
      "  -       FBY418   78.766022\n",
      "  -       FUY418   78.359894\n",
      "  -        EDY18   77.998238\n",
      "  -       EBY418   77.290085\n",
      "  -       EUY418   76.883957\n",
      "  -        0Y418   76.266960\n",
      "  -        OY418   75.977501\n",
      "  -       FGY418   75.782791\n",
      "  -        QY418   75.534058\n"
     ]
    }
   ],
   "source": [
    "results = alpr.recognize_file(\"/home/harshitha_yerraguntla/image.jpeg\")\n",
    "i = 0\n",
    "for plate in results['results']:\n",
    "    i += 1\n",
    "    print(\"Plate #%d\" % i)\n",
    "    print(\"   %12s %12s\" % (\"Plate\", \"Confidence\"))\n",
    "    for candidate in plate['candidates']:\n",
    "        prefix = \"-\"\n",
    "        if candidate['matches_template']:\n",
    "            prefix = \"*\"\n",
    "        print(\"  %s %12s%12f\" % (prefix, candidate['plate'], candidate['confidence']))\n",
    "\n",
    " # Call when completely done to release memory\n",
    "alpr.unload()"
   ]
  },
  {
   "cell_type": "code",
   "execution_count": 29,
   "metadata": {},
   "outputs": [],
   "source": [
    "def UpdateLiscencePlateDB(platenumber,entrytime):\n",
    "    #print(platenumber,time)\n",
    "    current_time = time.strftime(\"%m-%d-%Y %H:%M:%S\")\n",
    "    dynamodb = boto3.resource('dynamodb',region_name='us-east-2')\n",
    "    table = dynamodb.Table('LicensePlate')\n",
    "    table.update_item(\n",
    "    Key={\n",
    "        'Licenseplate': platenumber\n",
    "    },\n",
    "    UpdateExpression='SET EntryTime = :val1',\n",
    "    ExpressionAttributeValues={\n",
    "        ':val1': entrytime\n",
    "    }\n",
    "    )\n",
    "    table.update_item(\n",
    "    Key={\n",
    "       'Licenseplate': platenumber\n",
    "    },\n",
    "    UpdateExpression='SET ExitTime = :val1',\n",
    "    ExpressionAttributeValues={\n",
    "        ':val1': '07-15-2019 19:52:45'\n",
    "    }\n",
    ")"
   ]
  },
  {
   "cell_type": "code",
   "execution_count": 30,
   "metadata": {},
   "outputs": [],
   "source": [
    "UpdateLiscencePlateDB('8SRR680',time.strftime(\"%m-%d-%Y %H:%M:%S\") )"
   ]
  },
  {
   "cell_type": "code",
   "execution_count": null,
   "metadata": {},
   "outputs": [],
   "source": []
  }
 ],
 "metadata": {
  "kernelspec": {
   "display_name": "Python 3",
   "language": "python",
   "name": "python3"
  },
  "language_info": {
   "codemirror_mode": {
    "name": "ipython",
    "version": 3
   },
   "file_extension": ".py",
   "mimetype": "text/x-python",
   "name": "python",
   "nbconvert_exporter": "python",
   "pygments_lexer": "ipython3",
   "version": "3.7.3"
  }
 },
 "nbformat": 4,
 "nbformat_minor": 2
}
